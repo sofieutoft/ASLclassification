{
 "cells": [
  {
   "cell_type": "code",
   "execution_count": null,
   "metadata": {},
   "outputs": [],
   "source": [
    "import cv2\n",
    "import numpy as np\n",
    "from keras.models import load_model\n",
    "\n",
    "model = load_model('CNN_model.h5')"
   ]
  },
  {
   "cell_type": "code",
   "execution_count": null,
   "metadata": {},
   "outputs": [],
   "source": [
    "#HAND DETECTION\n",
    "#load the Haar cascade hand detection model\n",
    "hand_cascade = cv2.CascadeClassifier('hand.xml')\n",
    "\n",
    "def preprocess_image(image):\n",
    "    resized_image = cv2.resize(image, (28, 28))\n",
    "    grayscale_image = cv2.cvtColor(resized_image, cv2.COLOR_BGR2GRAY)\n",
    "    normalized_image = grayscale_image / 255.0\n",
    "    reshaped_image = normalized_image.reshape(1, 28, 28, 1)\n",
    "    return reshaped_image\n",
    "\n",
    "cap = cv2.VideoCapture(0, cv2.CAP_AVFOUNDATION)\n",
    "cap.set(cv2.CAP_PROP_FRAME_WIDTH, 640)  \n",
    "cap.set(cv2.CAP_PROP_FRAME_HEIGHT, 480)  \n",
    "\n",
    "while True:\n",
    "    ret, frame = cap.read()\n",
    "    if not ret:\n",
    "        print(\"Error: Failed to capture frame\")\n",
    "        break\n",
    "    \n",
    "    #convert the frame to grayscale\n",
    "    gray = cv2.cvtColor(frame, cv2.COLOR_BGR2GRAY)\n",
    "    \n",
    "    #detect hands in the frame\n",
    "    hands = hand_cascade.detectMultiScale(gray, scaleFactor=1.1, minNeighbors=5, minSize=(30, 30))\n",
    "    \n",
    "    #draw rectangles around the detected hands\n",
    "    for (x, y, w, h) in hands:\n",
    "        cv2.rectangle(frame, (x, y), (x+w, y+h), (255, 0, 0), 2)\n",
    "        \n",
    "        #adjust the region of interest (ROI) to focus on the hand\n",
    "        roi = frame[y:y+h, x:x+w]\n",
    "        \n",
    "        #resize the ROI to the desired input size for the model\n",
    "        resized_roi = cv2.resize(roi, (28, 28))\n",
    "        \n",
    "        #preprocess the resized ROI\n",
    "        processed_frame = preprocess_image(resized_roi)\n",
    "        \n",
    "        #make prediction using the model\n",
    "        prediction = model.predict(processed_frame)\n",
    "        predicted_letter = chr(prediction.argmax() + 65)\n",
    "        \n",
    "        #display prediction\n",
    "        cv2.putText(frame, predicted_letter, (x, y), cv2.FONT_HERSHEY_SIMPLEX, 1, (0, 255, 0), 2)\n",
    "    \n",
    "    cv2.imshow('ASL Prediction', frame)\n",
    "    \n",
    "    if cv2.waitKey(1) & 0xFF == ord('q'):\n",
    "        break\n",
    "\n",
    "cap.release()\n",
    "cv2.destroyAllWindows()"
   ]
  }
 ],
 "metadata": {
  "language_info": {
   "name": "python"
  },
  "orig_nbformat": 4
 },
 "nbformat": 4,
 "nbformat_minor": 2
}
