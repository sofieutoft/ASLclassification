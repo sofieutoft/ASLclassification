{
 "cells": [
  {
   "cell_type": "code",
   "execution_count": null,
   "metadata": {},
   "outputs": [],
   "source": [
    "!pip install roboflow supervision opencv-python"
   ]
  },
  {
   "cell_type": "code",
   "execution_count": 1,
   "metadata": {},
   "outputs": [
    {
     "name": "stderr",
     "output_type": "stream",
     "text": [
      "2024-04-25 12:07:39.648 Python[46311:2001668] WARNING: AVCaptureDeviceTypeExternal is deprecated for Continuity Cameras. Please use AVCaptureDeviceTypeContinuityCamera and add NSCameraUseContinuityCameraDeviceType to your Info.plist.\n"
     ]
    },
    {
     "name": "stdout",
     "output_type": "stream",
     "text": [
      "loading Roboflow workspace...\n",
      "loading Roboflow project...\n",
      "1/1 [==============================] - 0s 207ms/step\n"
     ]
    },
    {
     "name": "stderr",
     "output_type": "stream",
     "text": [
      "2024-04-25 12:07:46.185 Python[46311:2001668] WARNING: Secure coding is not enabled for restorable state! Enable secure coding by implementing NSApplicationDelegate.applicationSupportsSecureRestorableState: and returning YES.\n"
     ]
    },
    {
     "name": "stdout",
     "output_type": "stream",
     "text": [
      "loading Roboflow workspace...\n",
      "loading Roboflow project...\n",
      "1/1 [==============================] - 0s 17ms/step\n",
      "loading Roboflow workspace...\n",
      "loading Roboflow project...\n",
      "1/1 [==============================] - 0s 15ms/step\n",
      "loading Roboflow workspace...\n",
      "loading Roboflow project...\n",
      "1/1 [==============================] - 0s 13ms/step\n",
      "loading Roboflow workspace...\n",
      "loading Roboflow project...\n",
      "1/1 [==============================] - 0s 13ms/step\n",
      "loading Roboflow workspace...\n",
      "loading Roboflow project...\n",
      "1/1 [==============================] - 0s 14ms/step\n",
      "loading Roboflow workspace...\n",
      "loading Roboflow project...\n",
      "1/1 [==============================] - 0s 14ms/step\n",
      "loading Roboflow workspace...\n",
      "loading Roboflow project...\n",
      "1/1 [==============================] - 0s 14ms/step\n",
      "loading Roboflow workspace...\n",
      "loading Roboflow project...\n",
      "1/1 [==============================] - 0s 13ms/step\n",
      "loading Roboflow workspace...\n",
      "loading Roboflow project...\n",
      "1/1 [==============================] - 0s 14ms/step\n",
      "loading Roboflow workspace...\n",
      "loading Roboflow project...\n",
      "1/1 [==============================] - 0s 14ms/step\n",
      "loading Roboflow workspace...\n",
      "loading Roboflow project...\n",
      "1/1 [==============================] - 0s 14ms/step\n",
      "loading Roboflow workspace...\n",
      "loading Roboflow project...\n",
      "1/1 [==============================] - 0s 14ms/step\n",
      "loading Roboflow workspace...\n",
      "loading Roboflow project...\n",
      "1/1 [==============================] - 0s 14ms/step\n",
      "loading Roboflow workspace...\n",
      "loading Roboflow project...\n",
      "1/1 [==============================] - 0s 13ms/step\n",
      "loading Roboflow workspace...\n",
      "loading Roboflow project...\n",
      "1/1 [==============================] - 0s 14ms/step\n",
      "loading Roboflow workspace...\n",
      "loading Roboflow project...\n",
      "1/1 [==============================] - 0s 13ms/step\n",
      "loading Roboflow workspace...\n",
      "loading Roboflow project...\n",
      "1/1 [==============================] - 0s 14ms/step\n",
      "loading Roboflow workspace...\n",
      "loading Roboflow project...\n",
      "1/1 [==============================] - 0s 14ms/step\n"
     ]
    }
   ],
   "source": [
    "import cv2\n",
    "import numpy as np\n",
    "from keras.models import load_model\n",
    "from roboflow import Roboflow\n",
    "import supervision as sv\n",
    "\n",
    "#load the CNN model\n",
    "model = load_model('CNN_model.h5')\n",
    "\n",
    "def preprocess_image(image):\n",
    "    resized_image = cv2.resize(image, (28, 28))\n",
    "    grayscale_image = cv2.cvtColor(resized_image, cv2.COLOR_BGR2GRAY)\n",
    "    normalized_image = grayscale_image / 255.0\n",
    "    reshaped_image = normalized_image.reshape(1, 28, 28, 1)\n",
    "    return reshaped_image\n",
    "\n",
    "#define a function to annotate the image with the Roboflow model\n",
    "def annotated_image(image):\n",
    "    rf = Roboflow(api_key=\"BmaSz5YCzhmjapwU7201\")\n",
    "    project = rf.workspace().project(\"asl-translation-qylpl\")\n",
    "    model = project.version(5).model\n",
    "\n",
    "    result = model.predict(image, confidence=40, overlap=30).json()\n",
    "\n",
    "    labels = [item[\"class\"] for item in result[\"predictions\"]]\n",
    "\n",
    "    detections = sv.Detections.from_inference(result)\n",
    "\n",
    "    label_annotator = sv.LabelAnnotator()\n",
    "    bounding_box_annotator = sv.BoundingBoxAnnotator()\n",
    "\n",
    "    annotated_image = bounding_box_annotator.annotate(\n",
    "        scene=image, detections=detections)\n",
    "    annotated_image = label_annotator.annotate(\n",
    "        scene=annotated_image, detections=detections, labels=labels)\n",
    "\n",
    "    return annotated_image\n",
    "\n",
    "cap = cv2.VideoCapture(0)\n",
    "cap.set(cv2.CAP_PROP_FRAME_WIDTH, 1280)\n",
    "cap.set(cv2.CAP_PROP_FRAME_HEIGHT, 720)\n",
    "\n",
    "while True:\n",
    "    ret, frame = cap.read()\n",
    "\n",
    "    if not ret:\n",
    "        print(\"Error: Failed to capture frame\")\n",
    "        break\n",
    "\n",
    "    #annotate the image with hand detection bounding box\n",
    "    annotated_frame = annotated_image(frame)\n",
    "\n",
    "    #preprocess the annotated frame for the CNN model\n",
    "    processed_frame = preprocess_image(frame)\n",
    "\n",
    "    #predict using the CNN model\n",
    "    prediction = model.predict(processed_frame)\n",
    "    predicted_letter = chr(prediction.argmax() + 65)\n",
    "\n",
    "    #display CNN prediction result\n",
    "    cv2.putText(annotated_frame, predicted_letter, (50, 50), cv2.FONT_HERSHEY_SIMPLEX, 2, (0, 255, 0), 2)\n",
    "\n",
    "    #display the combined frame with hand detection bounding box and CNN prediction\n",
    "    cv2.imshow('Hand Detection and ASL Prediction', annotated_frame)\n",
    "\n",
    "    #break the loop if 'q' is pressed\n",
    "    if cv2.waitKey(1) & 0xFF == ord('q'):\n",
    "        break\n",
    "\n",
    "#release the capture\n",
    "cap.release()\n",
    "cv2.destroyAllWindows()"
   ]
  }
 ],
 "metadata": {
  "kernelspec": {
   "display_name": "Python 3",
   "language": "python",
   "name": "python3"
  },
  "language_info": {
   "codemirror_mode": {
    "name": "ipython",
    "version": 3
   },
   "file_extension": ".py",
   "mimetype": "text/x-python",
   "name": "python",
   "nbconvert_exporter": "python",
   "pygments_lexer": "ipython3",
   "version": "3.11.4"
  },
  "orig_nbformat": 4
 },
 "nbformat": 4,
 "nbformat_minor": 2
}
